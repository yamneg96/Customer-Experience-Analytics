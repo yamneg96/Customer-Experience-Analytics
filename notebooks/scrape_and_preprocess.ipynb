{
 "cells": [
  {
   "cell_type": "markdown",
   "id": "d7d6ad8b",
   "metadata": {},
   "source": [
    "# 🏦 Ethiopian Banking App Reviews: Scraping and Preprocessing\n",
    "\n",
    "This notebook handles:\n",
    "- Scraping Google Play Store reviews for three major Ethiopian banks.\n",
    "- Preprocessing the data: cleaning, formatting, and exporting.\n",
    "\n",
    "---\n",
    "\n",
    "## 1. 📌 Introduction\n",
    "\n",
    "In this notebook, we collect user reviews for:\n",
    "- Commercial Bank of Ethiopia (CBE)\n",
    "- Bank of Abyssinia (BOA)\n",
    "- Dashen Bank\n",
    "\n",
    "These reviews will be used to analyze customer sentiment, uncover themes, and identify user satisfaction drivers and pain points.\n",
    "\n",
    "---\n",
    "\n",
    "## 2. 🕸️ Scraping Google Play Store Reviews\n",
    "\n",
    "We use the `google-play-scraper` Python library to gather reviews from the Google Play Store. Each review includes:\n",
    "- Text content\n",
    "- Rating (1–5 stars)\n",
    "- Review date\n",
    "- Bank name\n",
    "- Source\n",
    "\n",
    "We target 400+ reviews per app."
   ]
  },
  {
   "cell_type": "code",
   "execution_count": 2,
   "id": "3f75b01f",
   "metadata": {},
   "outputs": [
    {
     "name": "stdout",
     "output_type": "stream",
     "text": [
      "Scraping reviews for CBE...\n",
      "Scraping reviews for BOA...\n",
      "Scraping reviews for Dashen...\n",
      "Raw review data saved to ../data/bank_reviews_raw.csv\n"
     ]
    }
   ],
   "source": [
    "from google_play_scraper import reviews_all\n",
    "import pandas as pd\n",
    "\n",
    "apps = {\n",
    "    \"CBE\": \"com.combanketh.mobilebanking\",\n",
    "    \"BOA\": \"com.boa.boaMobileBanking\",\n",
    "    \"Dashen\": \"com.dashen.dashensuperapp\"\n",
    "}\n",
    "\n",
    "all_reviews = []\n",
    "\n",
    "for bank, package in apps.items():\n",
    "    print(f\"Scraping reviews for {bank}...\")\n",
    "    reviews = reviews_all(\n",
    "        package,\n",
    "        lang='en',\n",
    "        country='us',\n",
    "        sleep_milliseconds=0,\n",
    "    )\n",
    "    for r in reviews:\n",
    "        all_reviews.append({\n",
    "            \"review\": r['content'],\n",
    "            \"rating\": r['score'],\n",
    "            \"date\": r['at'].strftime('%Y-%m-%d'),\n",
    "            \"bank\": bank,\n",
    "            \"source\": \"Google Play\"\n",
    "        })\n",
    "\n",
    "df = pd.DataFrame(all_reviews)\n",
    "df.to_csv(\"../data/bank_reviews_raw.csv\", index=False)\n",
    "print(\"Raw review data saved to ../data/bank_reviews_raw.csv\")"
   ]
  },
  {
   "cell_type": "markdown",
   "id": "8c0b9daf",
   "metadata": {},
   "source": [
    "# 3. 🧹 Preprocessing: Cleaning the Data\n",
    "This step includes:\n",
    "\n",
    "- Removing duplicates\n",
    "\n",
    "- Dropping missing values\n",
    "\n",
    "- Normalizing date formats\n",
    "\n",
    "- Retaining only relevant columns"
   ]
  },
  {
   "cell_type": "code",
   "execution_count": 8,
   "id": "8502bca3",
   "metadata": {},
   "outputs": [
    {
     "name": "stdout",
     "output_type": "stream",
     "text": [
      "Cleaned data saved to ../data/bank_reviews_clean.csv\n"
     ]
    }
   ],
   "source": [
    "df = pd.read_csv(\"../data/bank_reviews_raw.csv\")\n",
    "\n",
    "# Drop duplicates\n",
    "df.drop_duplicates(subset=[\"review\", \"date\", \"bank\"], inplace=True)\n",
    "\n",
    "# Drop missing\n",
    "df.dropna(subset=[\"review\", \"rating\", \"date\", \"bank\"], inplace=True)\n",
    "\n",
    "# Normalize date format\n",
    "df['date'] = pd.to_datetime(df['date']).dt.strftime('%Y-%m-%d')\n",
    "\n",
    "# Select and reorder columns\n",
    "df = df[[\"review\", \"rating\", \"date\", \"bank\", \"source\"]]\n",
    "\n",
    "df.to_csv(\"../data/bank_reviews_clean.csv\", index=False)\n",
    "print(\"Cleaned data saved to ../data/bank_reviews_clean.csv\")\n"
   ]
  },
  {
   "cell_type": "markdown",
   "id": "f8aa7caa",
   "metadata": {},
   "source": [
    "# 4. 📦 Export and Save Cleaned Data\n",
    "The cleaned dataset is saved to:\n",
    "\n",
    "```bash\n",
    "../data/bank_reviews_clean.csv\n",
    "```\n",
    "This dataset will be used in the next phase: sentiment and theme analysis."
   ]
  },
  {
   "cell_type": "markdown",
   "id": "2802c41c",
   "metadata": {},
   "source": [
    "# 5. 🔍 Data Preview & Quick Summary\n",
    "Preview the cleaned dataset to confirm structure and completeness."
   ]
  },
  {
   "cell_type": "code",
   "execution_count": null,
   "id": "13382b24",
   "metadata": {},
   "outputs": [
    {
     "data": {
      "text/html": [
       "<div>\n",
       "<style scoped>\n",
       "    .dataframe tbody tr th:only-of-type {\n",
       "        vertical-align: middle;\n",
       "    }\n",
       "\n",
       "    .dataframe tbody tr th {\n",
       "        vertical-align: top;\n",
       "    }\n",
       "\n",
       "    .dataframe thead th {\n",
       "        text-align: right;\n",
       "    }\n",
       "</style>\n",
       "<table border=\"1\" class=\"dataframe\">\n",
       "  <thead>\n",
       "    <tr style=\"text-align: right;\">\n",
       "      <th></th>\n",
       "      <th>review</th>\n",
       "      <th>rating</th>\n",
       "      <th>date</th>\n",
       "      <th>bank</th>\n",
       "      <th>source</th>\n",
       "    </tr>\n",
       "  </thead>\n",
       "  <tbody>\n",
       "    <tr>\n",
       "      <th>0</th>\n",
       "      <td>20 years</td>\n",
       "      <td>5</td>\n",
       "      <td>2025-06-08</td>\n",
       "      <td>CBE</td>\n",
       "      <td>Google Play</td>\n",
       "    </tr>\n",
       "    <tr>\n",
       "      <th>1</th>\n",
       "      <td>A great app. It's like carrying a bank in your...</td>\n",
       "      <td>4</td>\n",
       "      <td>2025-06-07</td>\n",
       "      <td>CBE</td>\n",
       "      <td>Google Play</td>\n",
       "    </tr>\n",
       "    <tr>\n",
       "      <th>2</th>\n",
       "      <td>More than garrantty bank EBC.</td>\n",
       "      <td>4</td>\n",
       "      <td>2025-06-07</td>\n",
       "      <td>CBE</td>\n",
       "      <td>Google Play</td>\n",
       "    </tr>\n",
       "    <tr>\n",
       "      <th>3</th>\n",
       "      <td>really am happy to this app it is Siple to use...</td>\n",
       "      <td>5</td>\n",
       "      <td>2025-06-07</td>\n",
       "      <td>CBE</td>\n",
       "      <td>Google Play</td>\n",
       "    </tr>\n",
       "    <tr>\n",
       "      <th>4</th>\n",
       "      <td>I liked this app. But the User interface is ve...</td>\n",
       "      <td>2</td>\n",
       "      <td>2025-06-07</td>\n",
       "      <td>CBE</td>\n",
       "      <td>Google Play</td>\n",
       "    </tr>\n",
       "  </tbody>\n",
       "</table>\n",
       "</div>"
      ],
      "text/plain": [
       "                                              review  rating        date bank  \\\n",
       "0                                           20 years       5  2025-06-08  CBE   \n",
       "1  A great app. It's like carrying a bank in your...       4  2025-06-07  CBE   \n",
       "2                      More than garrantty bank EBC.       4  2025-06-07  CBE   \n",
       "3  really am happy to this app it is Siple to use...       5  2025-06-07  CBE   \n",
       "4  I liked this app. But the User interface is ve...       2  2025-06-07  CBE   \n",
       "\n",
       "        source  \n",
       "0  Google Play  \n",
       "1  Google Play  \n",
       "2  Google Play  \n",
       "3  Google Play  \n",
       "4  Google Play  "
      ]
     },
     "execution_count": 5,
     "metadata": {},
     "output_type": "execute_result"
    }
   ],
   "source": [
    "df.head()\n"
   ]
  },
  {
   "cell_type": "code",
   "execution_count": null,
   "id": "296e11a0",
   "metadata": {},
   "outputs": [
    {
     "name": "stdout",
     "output_type": "stream",
     "text": [
      "Total Reviews: 8843\n",
      "Missing values per column:\n",
      "review    0\n",
      "rating    0\n",
      "date      0\n",
      "bank      0\n",
      "source    0\n",
      "dtype: int64\n"
     ]
    }
   ],
   "source": [
    "print(\"Total Reviews:\", df.shape[0])\n",
    "print(\"Missing values per column:\")\n",
    "print(df.isnull().sum())\n"
   ]
  }
 ],
 "metadata": {
  "kernelspec": {
   "display_name": ".venv",
   "language": "python",
   "name": "python3"
  },
  "language_info": {
   "codemirror_mode": {
    "name": "ipython",
    "version": 3
   },
   "file_extension": ".py",
   "mimetype": "text/x-python",
   "name": "python",
   "nbconvert_exporter": "python",
   "pygments_lexer": "ipython3",
   "version": "3.13.3"
  }
 },
 "nbformat": 4,
 "nbformat_minor": 5
}
