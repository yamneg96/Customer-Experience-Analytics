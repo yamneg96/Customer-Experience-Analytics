{
 "cells": [
  {
   "cell_type": "markdown",
   "id": "d3e76da5",
   "metadata": {},
   "source": [
    "# 💬 Task 2: Sentiment and Thematic Analysis\n",
    "\n",
    "---\n",
    "\n",
    "## 1. Introduction\n",
    "\n",
    "In this section, we quantify review sentiment and identify themes to uncover satisfaction drivers and pain points for Ethiopian banking apps. We use multiple sentiment analysis methods for comparison.\n",
    "\n",
    "---\n",
    "\n",
    "## 2. Sentiment Analysis with TextBlob\n",
    "\n",
    "We first use TextBlob, a simple rule-based sentiment analyzer, to classify reviews as Positive, Negative, or Neutral and compute polarity scores."
   ]
  },
  {
   "cell_type": "code",
   "execution_count": 7,
   "id": "801ac9f9",
   "metadata": {},
   "outputs": [
    {
     "name": "stdout",
     "output_type": "stream",
     "text": [
      "  bank  rating  textblob_polarity\n",
      "0  BOA       1          -0.121152\n",
      "1  BOA       2          -0.021473\n",
      "2  BOA       3           0.114022\n",
      "3  BOA       4           0.348488\n",
      "4  BOA       5           0.431643\n"
     ]
    }
   ],
   "source": [
    "import pandas as pd\n",
    "from textblob import TextBlob\n",
    "\n",
    "# Load cleaned reviews\n",
    "df = pd.read_csv('../data/bank_reviews_clean.csv')\n",
    "\n",
    "# --- Sentiment Analysis using TextBlob ---\n",
    "def get_textblob_sentiment(text):\n",
    "    blob = TextBlob(str(text))\n",
    "    polarity = blob.sentiment.polarity\n",
    "    if polarity > 0.1:\n",
    "        return 'POSITIVE'\n",
    "    elif polarity < -0.1:\n",
    "        return 'NEGATIVE'\n",
    "    else:\n",
    "        return 'NEUTRAL'\n",
    "\n",
    "df['textblob_sentiment'] = df['review'].apply(get_textblob_sentiment)\n",
    "df['textblob_polarity'] = df['review'].apply(lambda x: TextBlob(str(x)).sentiment.polarity)\n",
    "\n",
    "# --- Aggregate by bank and rating ---\n",
    "sentiment_agg = df.groupby(['bank', 'rating'])['textblob_polarity'].mean().reset_index()\n",
    "print(sentiment_agg.head())\n",
    "\n",
    "# --- (Optional) Save results ---\n",
    "df.to_csv('../data/sentiment_textblob.csv', index=False)"
   ]
  },
  {
   "cell_type": "markdown",
   "id": "735819f8",
   "metadata": {},
   "source": [
    "---\n",
    "\n",
    "## 3. Sentiment Analysis with DistilBERT\n",
    "\n",
    "We now use a transformer-based model, `distilbert-base-uncased-finetuned-sst-2-english`, to classify each review as Positive or Negative and compute sentiment scores. This approach leverages deep learning for more nuanced sentiment detection."
   ]
  },
  {
   "cell_type": "code",
   "execution_count": 8,
   "id": "33c43b7e",
   "metadata": {},
   "outputs": [
    {
     "name": "stderr",
     "output_type": "stream",
     "text": [
      "Device set to use cpu\n"
     ]
    },
    {
     "name": "stdout",
     "output_type": "stream",
     "text": [
      "  bank  rating  bert_score\n",
      "0  BOA       1    0.975631\n",
      "1  BOA       2    0.957897\n",
      "2  BOA       3    0.967069\n",
      "3  BOA       4    0.973705\n",
      "4  BOA       5    0.961710\n"
     ]
    }
   ],
   "source": [
    "from transformers import pipeline\n",
    "\n",
    "# Load sentiment analysis pipeline\n",
    "sentiment_pipeline = pipeline(\"sentiment-analysis\", model=\"distilbert-base-uncased-finetuned-sst-2-english\")\n",
    "\n",
    "def get_bert_sentiment(text):\n",
    "    result = sentiment_pipeline(str(text)[:512])[0]\n",
    "    return result['label']\n",
    "\n",
    "def get_bert_score(text):\n",
    "    result = sentiment_pipeline(str(text)[:512])[0]\n",
    "    return result['score']\n",
    "\n",
    "df['bert_sentiment'] = df['review'].apply(get_bert_sentiment)\n",
    "df['bert_score'] = df['review'].apply(get_bert_score)\n",
    "\n",
    "# --- Aggregate by bank and rating ---\n",
    "bert_agg = df.groupby(['bank', 'rating'])['bert_score'].mean().reset_index()\n",
    "print(bert_agg.head())\n",
    "\n",
    "# --- (Optional) Save results ---\n",
    "df.to_csv('../data/sentiment_bert.csv', index=False)"
   ]
  },
  {
   "cell_type": "markdown",
   "id": "eeb6e694",
   "metadata": {},
   "source": [
    "---\n",
    "\n",
    "## 4. Sentiment Analysis with VADER (Optional)\n",
    "\n",
    "VADER is a lexicon and rule-based sentiment analysis tool specifically designed for social media text. We use it here for additional comparison."
   ]
  },
  {
   "cell_type": "code",
   "execution_count": 9,
   "id": "12cf2ab3",
   "metadata": {},
   "outputs": [
    {
     "name": "stdout",
     "output_type": "stream",
     "text": [
      "  bank  rating  vader_compound\n",
      "0  BOA       1       -0.176971\n",
      "1  BOA       2       -0.042988\n",
      "2  BOA       3        0.162709\n",
      "3  BOA       4        0.291150\n",
      "4  BOA       5        0.374869\n"
     ]
    }
   ],
   "source": [
    "from vaderSentiment.vaderSentiment import SentimentIntensityAnalyzer\n",
    "\n",
    "analyzer = SentimentIntensityAnalyzer()\n",
    "df['vader_compound'] = df['review'].apply(lambda x: analyzer.polarity_scores(str(x))['compound'])\n",
    "\n",
    "# --- Aggregate by bank and rating ---\n",
    "vader_agg = df.groupby(['bank', 'rating'])['vader_compound'].mean().reset_index()\n",
    "print(vader_agg.head())\n",
    "\n",
    "# --- (Optional) Save results ---\n",
    "df.to_csv('../data/sentiment_vader.csv', index=False)"
   ]
  },
  {
   "cell_type": "markdown",
   "id": "779ac073",
   "metadata": {},
   "source": [
    "---\n",
    "\n",
    "## 5. Comparison and Next Steps\n",
    "\n",
    "With sentiment scores from TextBlob, DistilBERT, and VADER, you can now compare the results and choose the most appropriate method for further thematic analysis and visualization."
   ]
  },
  {
   "cell_type": "markdown",
   "id": "b63433a2",
   "metadata": {},
   "source": [
    "---\n",
    "\n",
    "## 6. Thematic Analysis\n",
    "\n",
    "A theme refers to a recurring concept or topic within user reviews. For this challenge, themes help summarize user feedback into actionable categories for the banks.\n",
    "\n",
    "We will:\n",
    "- Extract significant keywords and n-grams using TF-IDF.\n",
    "- Optionally, use topic modeling for deeper insights.\n",
    "- Manually group related keywords into 3–5 overarching themes per bank.\n",
    "- Document the grouping logic.\n",
    "\n",
    "---"
   ]
  },
  {
   "cell_type": "code",
   "execution_count": 10,
   "id": "6e451739",
   "metadata": {},
   "outputs": [
    {
     "name": "stdout",
     "output_type": "stream",
     "text": [
      "Top keywords and bigrams: ['account' 'app' 'application' 'bank' 'banking' 'best' 'best app' 'cbe'\n",
      " 'doesn' 'easy' 'easy use' 'fast' 'fix' 'good' 'good app' 'great' 'like'\n",
      " 'mobile' 'mobile banking' 'money' 'nice' 'nice app' 'service' 'time'\n",
      " 'transaction' 'transfer' 'update' 'use' 'work' 'working']\n"
     ]
    }
   ],
   "source": [
    "# Keyword Extraction using TF-IDF\n",
    "\n",
    "from sklearn.feature_extraction.text import TfidfVectorizer\n",
    "\n",
    "# Extract keywords and bigrams\n",
    "tfidf = TfidfVectorizer(ngram_range=(1,2), max_features=30, stop_words='english')\n",
    "tfidf_matrix = tfidf.fit_transform(df['review'].astype(str))\n",
    "keywords = tfidf.get_feature_names_out()\n",
    "\n",
    "print(\"Top keywords and bigrams:\", keywords)"
   ]
  },
  {
   "cell_type": "markdown",
   "id": "9e7a5618",
   "metadata": {},
   "source": [
    "---\n",
    "\n",
    "### Manual/Rule-based Clustering\n",
    "\n",
    "We now group the extracted keywords and bigrams into broader themes. Example themes:\n",
    "- Account Access Issues\n",
    "- Transaction Performance\n",
    "- User Interface & Experience\n",
    "- Customer Support\n",
    "- Feature Requests\n",
    "\n",
    "Below is a sample rule-based approach for assigning themes.\n",
    "---"
   ]
  },
  {
   "cell_type": "code",
   "execution_count": 11,
   "id": "30683507",
   "metadata": {},
   "outputs": [
    {
     "data": {
      "text/html": [
       "<div>\n",
       "<style scoped>\n",
       "    .dataframe tbody tr th:only-of-type {\n",
       "        vertical-align: middle;\n",
       "    }\n",
       "\n",
       "    .dataframe tbody tr th {\n",
       "        vertical-align: top;\n",
       "    }\n",
       "\n",
       "    .dataframe thead th {\n",
       "        text-align: right;\n",
       "    }\n",
       "</style>\n",
       "<table border=\"1\" class=\"dataframe\">\n",
       "  <thead>\n",
       "    <tr style=\"text-align: right;\">\n",
       "      <th></th>\n",
       "      <th>review</th>\n",
       "      <th>theme</th>\n",
       "    </tr>\n",
       "  </thead>\n",
       "  <tbody>\n",
       "    <tr>\n",
       "      <th>0</th>\n",
       "      <td>20 years</td>\n",
       "      <td>Other</td>\n",
       "    </tr>\n",
       "    <tr>\n",
       "      <th>1</th>\n",
       "      <td>A great app. It's like carrying a bank in your...</td>\n",
       "      <td>Other</td>\n",
       "    </tr>\n",
       "    <tr>\n",
       "      <th>2</th>\n",
       "      <td>More than garrantty bank EBC.</td>\n",
       "      <td>Other</td>\n",
       "    </tr>\n",
       "    <tr>\n",
       "      <th>3</th>\n",
       "      <td>really am happy to this app it is Siple to use...</td>\n",
       "      <td>Other</td>\n",
       "    </tr>\n",
       "    <tr>\n",
       "      <th>4</th>\n",
       "      <td>I liked this app. But the User interface is ve...</td>\n",
       "      <td>User Interface &amp; Experience</td>\n",
       "    </tr>\n",
       "  </tbody>\n",
       "</table>\n",
       "</div>"
      ],
      "text/plain": [
       "                                              review  \\\n",
       "0                                           20 years   \n",
       "1  A great app. It's like carrying a bank in your...   \n",
       "2                      More than garrantty bank EBC.   \n",
       "3  really am happy to this app it is Siple to use...   \n",
       "4  I liked this app. But the User interface is ve...   \n",
       "\n",
       "                         theme  \n",
       "0                        Other  \n",
       "1                        Other  \n",
       "2                        Other  \n",
       "3                        Other  \n",
       "4  User Interface & Experience  "
      ]
     },
     "execution_count": 11,
     "metadata": {},
     "output_type": "execute_result"
    }
   ],
   "source": [
    "# Rule-based theme assignment (example logic)\n",
    "def assign_theme(text):\n",
    "    text = text.lower()\n",
    "    if any(word in text for word in ['login', 'access', 'password', 'account locked']):\n",
    "        return 'Account Access Issues'\n",
    "    elif any(word in text for word in ['transfer', 'transaction', 'delay', 'pending']):\n",
    "        return 'Transaction Performance'\n",
    "    elif any(word in text for word in ['interface', 'design', 'easy', 'navigation', 'ui']):\n",
    "        return 'User Interface & Experience'\n",
    "    elif any(word in text for word in ['support', 'help', 'customer service', 'response']):\n",
    "        return 'Customer Support'\n",
    "    elif any(word in text for word in ['feature', 'add', 'request', 'option']):\n",
    "        return 'Feature Requests'\n",
    "    else:\n",
    "        return 'Other'\n",
    "\n",
    "df['theme'] = df['review'].apply(assign_theme)\n",
    "df[['review', 'theme']].head()"
   ]
  },
  {
   "cell_type": "markdown",
   "id": "6da02f0c",
   "metadata": {},
   "source": [
    "---\n",
    "\n",
    "### Theme Distribution\n",
    "\n",
    "We can now visualize the frequency of each theme per bank to identify the most common user concerns.\n",
    "\n",
    "---"
   ]
  },
  {
   "cell_type": "markdown",
   "id": "da37f640",
   "metadata": {},
   "source": [
    "---\n",
    "\n",
    "## 7. Preprocessing and Keyword Extraction\n",
    "\n",
    "We preprocess the reviews using tokenization, stop-word removal, and optional lemmatization. Then, we extract keywords using spaCy or TF-IDF. The results are saved as a CSV file with review text, sentiment, score, and identified theme(s).\n",
    "\n",
    "---"
   ]
  },
  {
   "cell_type": "code",
   "execution_count": 13,
   "id": "7030adcf",
   "metadata": {},
   "outputs": [
    {
     "data": {
      "text/html": [
       "<div>\n",
       "<style scoped>\n",
       "    .dataframe tbody tr th:only-of-type {\n",
       "        vertical-align: middle;\n",
       "    }\n",
       "\n",
       "    .dataframe tbody tr th {\n",
       "        vertical-align: top;\n",
       "    }\n",
       "\n",
       "    .dataframe thead th {\n",
       "        text-align: right;\n",
       "    }\n",
       "</style>\n",
       "<table border=\"1\" class=\"dataframe\">\n",
       "  <thead>\n",
       "    <tr style=\"text-align: right;\">\n",
       "      <th></th>\n",
       "      <th>review</th>\n",
       "      <th>review_clean</th>\n",
       "    </tr>\n",
       "  </thead>\n",
       "  <tbody>\n",
       "    <tr>\n",
       "      <th>0</th>\n",
       "      <td>20 years</td>\n",
       "      <td>year</td>\n",
       "    </tr>\n",
       "    <tr>\n",
       "      <th>1</th>\n",
       "      <td>A great app. It's like carrying a bank in your...</td>\n",
       "      <td>great app like carry bank pocket</td>\n",
       "    </tr>\n",
       "    <tr>\n",
       "      <th>2</th>\n",
       "      <td>More than garrantty bank EBC.</td>\n",
       "      <td>garrantty bank ebc</td>\n",
       "    </tr>\n",
       "    <tr>\n",
       "      <th>3</th>\n",
       "      <td>really am happy to this app it is Siple to use...</td>\n",
       "      <td>happy app siple use</td>\n",
       "    </tr>\n",
       "    <tr>\n",
       "      <th>4</th>\n",
       "      <td>I liked this app. But the User interface is ve...</td>\n",
       "      <td>like app user interface basic attractive</td>\n",
       "    </tr>\n",
       "  </tbody>\n",
       "</table>\n",
       "</div>"
      ],
      "text/plain": [
       "                                              review  \\\n",
       "0                                           20 years   \n",
       "1  A great app. It's like carrying a bank in your...   \n",
       "2                      More than garrantty bank EBC.   \n",
       "3  really am happy to this app it is Siple to use...   \n",
       "4  I liked this app. But the User interface is ve...   \n",
       "\n",
       "                               review_clean  \n",
       "0                                      year  \n",
       "1          great app like carry bank pocket  \n",
       "2                        garrantty bank ebc  \n",
       "3                       happy app siple use  \n",
       "4  like app user interface basic attractive  "
      ]
     },
     "execution_count": 13,
     "metadata": {},
     "output_type": "execute_result"
    }
   ],
   "source": [
    "# Preprocessing: Tokenization, stop-word removal, lemmatization (optional)\n",
    "import spacy\n",
    "\n",
    "nlp = spacy.load(\"en_core_web_sm\")\n",
    "\n",
    "def preprocess(text):\n",
    "    doc = nlp(str(text))\n",
    "    tokens = [\n",
    "        token.lemma_.lower() for token in doc\n",
    "        if not token.is_stop and not token.is_punct and token.is_alpha\n",
    "    ]\n",
    "    return \" \".join(tokens)\n",
    "\n",
    "df['review_clean'] = df['review'].apply(preprocess)\n",
    "df[['review', 'review_clean']].head()"
   ]
  },
  {
   "cell_type": "code",
   "execution_count": 14,
   "id": "19070cbd",
   "metadata": {},
   "outputs": [
    {
     "name": "stdout",
     "output_type": "stream",
     "text": [
      "Top keywords and bigrams: ['account' 'app' 'application' 'bad' 'bank' 'banking' 'cbe' 'easy'\n",
      " 'easy use' 'fast' 'fix' 'good' 'good app' 'great' 'like' 'mobile'\n",
      " 'mobile banking' 'money' 'need' 'nice' 'nice app' 'service' 'thank'\n",
      " 'time' 'transaction' 'transfer' 'update' 'use' 'well' 'work']\n"
     ]
    }
   ],
   "source": [
    "# Keyword Extraction using TF-IDF (on cleaned reviews)\n",
    "from sklearn.feature_extraction.text import TfidfVectorizer\n",
    "\n",
    "tfidf = TfidfVectorizer(ngram_range=(1,2), max_features=30)\n",
    "tfidf_matrix = tfidf.fit_transform(df['review_clean'])\n",
    "keywords = tfidf.get_feature_names_out()\n",
    "print(\"Top keywords and bigrams:\", keywords)"
   ]
  },
  {
   "cell_type": "markdown",
   "id": "c915331c",
   "metadata": {},
   "source": [
    "---\n",
    "\n",
    "## 8. Theme Clustering\n",
    "\n",
    "We cluster the extracted keywords and reviews into 3–5 main themes per bank (e.g., UI, reliability, support, transaction issues, feature requests) using rule-based logic.\n",
    "\n",
    "---"
   ]
  },
  {
   "cell_type": "code",
   "execution_count": 15,
   "id": "8f9d20c9",
   "metadata": {},
   "outputs": [
    {
     "data": {
      "text/html": [
       "<div>\n",
       "<style scoped>\n",
       "    .dataframe tbody tr th:only-of-type {\n",
       "        vertical-align: middle;\n",
       "    }\n",
       "\n",
       "    .dataframe tbody tr th {\n",
       "        vertical-align: top;\n",
       "    }\n",
       "\n",
       "    .dataframe thead th {\n",
       "        text-align: right;\n",
       "    }\n",
       "</style>\n",
       "<table border=\"1\" class=\"dataframe\">\n",
       "  <thead>\n",
       "    <tr style=\"text-align: right;\">\n",
       "      <th></th>\n",
       "      <th>review</th>\n",
       "      <th>theme</th>\n",
       "    </tr>\n",
       "  </thead>\n",
       "  <tbody>\n",
       "    <tr>\n",
       "      <th>0</th>\n",
       "      <td>20 years</td>\n",
       "      <td>Other</td>\n",
       "    </tr>\n",
       "    <tr>\n",
       "      <th>1</th>\n",
       "      <td>A great app. It's like carrying a bank in your...</td>\n",
       "      <td>Other</td>\n",
       "    </tr>\n",
       "    <tr>\n",
       "      <th>2</th>\n",
       "      <td>More than garrantty bank EBC.</td>\n",
       "      <td>Other</td>\n",
       "    </tr>\n",
       "    <tr>\n",
       "      <th>3</th>\n",
       "      <td>really am happy to this app it is Siple to use...</td>\n",
       "      <td>Other</td>\n",
       "    </tr>\n",
       "    <tr>\n",
       "      <th>4</th>\n",
       "      <td>I liked this app. But the User interface is ve...</td>\n",
       "      <td>User Interface &amp; Experience</td>\n",
       "    </tr>\n",
       "  </tbody>\n",
       "</table>\n",
       "</div>"
      ],
      "text/plain": [
       "                                              review  \\\n",
       "0                                           20 years   \n",
       "1  A great app. It's like carrying a bank in your...   \n",
       "2                      More than garrantty bank EBC.   \n",
       "3  really am happy to this app it is Siple to use...   \n",
       "4  I liked this app. But the User interface is ve...   \n",
       "\n",
       "                         theme  \n",
       "0                        Other  \n",
       "1                        Other  \n",
       "2                        Other  \n",
       "3                        Other  \n",
       "4  User Interface & Experience  "
      ]
     },
     "execution_count": 15,
     "metadata": {},
     "output_type": "execute_result"
    }
   ],
   "source": [
    "# Example rule-based theme assignment (customize as needed)\n",
    "def assign_theme(text):\n",
    "    text = text.lower()\n",
    "    if any(word in text for word in ['login', 'access', 'password', 'account locked']):\n",
    "        return 'Account Access Issues'\n",
    "    elif any(word in text for word in ['transfer', 'transaction', 'delay', 'pending', 'fail']):\n",
    "        return 'Transaction Performance'\n",
    "    elif any(word in text for word in ['interface', 'design', 'easy', 'navigation', 'ui']):\n",
    "        return 'User Interface & Experience'\n",
    "    elif any(word in text for word in ['support', 'help', 'customer service', 'response']):\n",
    "        return 'Customer Support'\n",
    "    elif any(word in text for word in ['feature', 'add', 'request', 'option']):\n",
    "        return 'Feature Requests'\n",
    "    else:\n",
    "        return 'Other'\n",
    "\n",
    "df['theme'] = df['review_clean'].apply(assign_theme)\n",
    "df[['review', 'theme']].head()"
   ]
  },
  {
   "cell_type": "code",
   "execution_count": 16,
   "id": "825c5609",
   "metadata": {},
   "outputs": [
    {
     "name": "stdout",
     "output_type": "stream",
     "text": [
      "Saved processed reviews with sentiment and theme labels.\n"
     ]
    }
   ],
   "source": [
    "# Save processed results as CSV\n",
    "df[['review', 'review_clean', 'textblob_sentiment', 'textblob_polarity', 'bert_sentiment', 'bert_score', 'vader_compound', 'theme']].to_csv(\n",
    "    '../data/review_sentiment_theme.csv', index=False\n",
    ")\n",
    "print(\"Saved processed reviews with sentiment and theme labels.\")"
   ]
  },
  {
   "cell_type": "markdown",
   "id": "d3b2bc9c",
   "metadata": {},
   "source": [
    "---\n",
    "\n",
    "## 9. Theme Distribution Visualization\n",
    "\n",
    "We visualize the frequency of each theme per bank to identify the most common user concerns.\n",
    "\n",
    "---"
   ]
  },
  {
   "cell_type": "code",
   "execution_count": 17,
   "id": "2af3c869",
   "metadata": {},
   "outputs": [
    {
     "data": {
      "image/png": "[encoded data removed]",
      "text/plain": [
       "<Figure size 1000x500 with 1 Axes>"
      ]
     },
     "metadata": {},
     "output_type": "display_data"
    }
   ],
   "source": [
    "import matplotlib.pyplot as plt\n",
    "import seaborn as sns\n",
    "\n",
    "plt.figure(figsize=(10,5))\n",
    "sns.countplot(data=df, x='theme', hue='bank', order=df['theme'].value_counts().index)\n",
    "plt.title('Theme Frequency by Bank')\n",
    "plt.xticks(rotation=30)\n",
    "plt.show()"
   ]
  },
  {
   "cell_type": "markdown",
   "id": "b7595b6f",
   "metadata": {},
   "source": [
    "---\n",
    "\n",
    "## 10. Store Cleaned Data in Oracle\n",
    "\n",
    "In this step, we design and implement a relational database in Oracle to persistently store the cleaned and processed review data. This simulates real-world enterprise data engineering workflows, especially within banks where Oracle is commonly used.\n",
    "\n",
    "### Tasks\n",
    "\n",
    "- Create a database (or schema) named `bank_reviews`\n",
    "- Define schema:\n",
    "  - **Banks Table:** Stores information about the banks\n",
    "  - **Reviews Table:** Stores the scraped and processed review data\n",
    "- Insert cleaned review data using Python\n",
    "\n",
    "---"
   ]
  },
  {
   "cell_type": "code",
   "execution_count": 11,
   "id": "27ed194c",
   "metadata": {},
   "outputs": [
    {
     "ename": "OperationalError",
     "evalue": "DPY-6005: cannot connect to database (CONNECTION_ID=yXWic2N5X6DvUxkKrLZdXA==).\n[Errno 111] Connection refused",
     "output_type": "error",
     "traceback": [
      "\u001b[31m---------------------------------------------------------------------------\u001b[39m",
      "\u001b[31mConnectionRefusedError\u001b[39m                    Traceback (most recent call last)",
      "\u001b[36mFile \u001b[39m\u001b[32msrc/oracledb/impl/thin/connection.pyx:358\u001b[39m, in \u001b[36moracledb.thin_impl.ThinConnImpl._connect_with_address\u001b[39m\u001b[34m()\u001b[39m\n",
      "\u001b[36mFile \u001b[39m\u001b[32msrc/oracledb/impl/thin/protocol.pyx:233\u001b[39m, in \u001b[36moracledb.thin_impl.Protocol._connect_phase_one\u001b[39m\u001b[34m()\u001b[39m\n",
      "\u001b[36mFile \u001b[39m\u001b[32msrc/oracledb/impl/thin/protocol.pyx:367\u001b[39m, in \u001b[36moracledb.thin_impl.Protocol._connect_tcp\u001b[39m\u001b[34m()\u001b[39m\n",
      "\u001b[36mFile \u001b[39m\u001b[32m/usr/lib/python3.12/socket.py:852\u001b[39m, in \u001b[36mcreate_connection\u001b[39m\u001b[34m(address, timeout, source_address, all_errors)\u001b[39m\n\u001b[32m    851\u001b[39m \u001b[38;5;28;01mif\u001b[39;00m \u001b[38;5;129;01mnot\u001b[39;00m all_errors:\n\u001b[32m--> \u001b[39m\u001b[32m852\u001b[39m     \u001b[38;5;28;01mraise\u001b[39;00m exceptions[\u001b[32m0\u001b[39m]\n\u001b[32m    853\u001b[39m \u001b[38;5;28;01mraise\u001b[39;00m ExceptionGroup(\u001b[33m\"\u001b[39m\u001b[33mcreate_connection failed\u001b[39m\u001b[33m\"\u001b[39m, exceptions)\n",
      "\u001b[36mFile \u001b[39m\u001b[32m/usr/lib/python3.12/socket.py:837\u001b[39m, in \u001b[36mcreate_connection\u001b[39m\u001b[34m(address, timeout, source_address, all_errors)\u001b[39m\n\u001b[32m    836\u001b[39m     sock.bind(source_address)\n\u001b[32m--> \u001b[39m\u001b[32m837\u001b[39m \u001b[43msock\u001b[49m\u001b[43m.\u001b[49m\u001b[43mconnect\u001b[49m\u001b[43m(\u001b[49m\u001b[43msa\u001b[49m\u001b[43m)\u001b[49m\n\u001b[32m    838\u001b[39m \u001b[38;5;66;03m# Break explicitly a reference cycle\u001b[39;00m\n",
      "\u001b[31mConnectionRefusedError\u001b[39m: [Errno 111] Connection refused",
      "\nThe above exception was the direct cause of the following exception:\n",
      "\u001b[31mOperationalError\u001b[39m                          Traceback (most recent call last)",
      "\u001b[36mCell\u001b[39m\u001b[36m \u001b[39m\u001b[32mIn[11]\u001b[39m\u001b[32m, line 14\u001b[39m\n\u001b[32m     11\u001b[39m password = \u001b[33m\"\u001b[39m\u001b[33mdohardthings\u001b[39m\u001b[33m\"\u001b[39m\n\u001b[32m     12\u001b[39m dsn = \u001b[33m\"\u001b[39m\u001b[33mlocalhost/XEPDB1\u001b[39m\u001b[33m\"\u001b[39m\n\u001b[32m---> \u001b[39m\u001b[32m14\u001b[39m \u001b[43mcreate_schema\u001b[49m\u001b[43m(\u001b[49m\u001b[43muser\u001b[49m\u001b[43m,\u001b[49m\u001b[43m \u001b[49m\u001b[43mpassword\u001b[49m\u001b[43m,\u001b[49m\u001b[43m \u001b[49m\u001b[43mdsn\u001b[49m\u001b[43m)\u001b[49m\n",
      "\u001b[36mFile \u001b[39m\u001b[32m~/code/kifiyaAI/Customer-Experience-Analytics-for-Fintech-Apps/src/db.py:7\u001b[39m, in \u001b[36mcreate_schema\u001b[39m\u001b[34m(user, password, dsn)\u001b[39m\n\u001b[32m      3\u001b[39m \u001b[38;5;28;01mdef\u001b[39;00m\u001b[38;5;250m \u001b[39m\u001b[34mcreate_schema\u001b[39m(user, password, dsn):\n\u001b[32m      4\u001b[39m \u001b[38;5;250m    \u001b[39m\u001b[33;03m\"\"\"\u001b[39;00m\n\u001b[32m      5\u001b[39m \u001b[33;03m    Create banks and reviews tables in the connected Oracle database.\u001b[39;00m\n\u001b[32m      6\u001b[39m \u001b[33;03m    \"\"\"\u001b[39;00m\n\u001b[32m----> \u001b[39m\u001b[32m7\u001b[39m     conn = \u001b[43moracledb\u001b[49m\u001b[43m.\u001b[49m\u001b[43mconnect\u001b[49m\u001b[43m(\u001b[49m\u001b[43muser\u001b[49m\u001b[43m=\u001b[49m\u001b[43muser\u001b[49m\u001b[43m,\u001b[49m\u001b[43m \u001b[49m\u001b[43mpassword\u001b[49m\u001b[43m=\u001b[49m\u001b[43mpassword\u001b[49m\u001b[43m,\u001b[49m\u001b[43m \u001b[49m\u001b[43mdsn\u001b[49m\u001b[43m=\u001b[49m\u001b[43mdsn\u001b[49m\u001b[43m)\u001b[49m\n\u001b[32m      8\u001b[39m     cur = conn.cursor()\n\u001b[32m     10\u001b[39m     \u001b[38;5;66;03m# Create banks table\u001b[39;00m\n",
      "\u001b[36mFile \u001b[39m\u001b[32m~/code/kifiyaAI/Customer-Experience-Analytics-for-Fintech-Apps/.venv/lib/python3.12/site-packages/oracledb/connection.py:1264\u001b[39m, in \u001b[36m_connection_factory.<locals>.connect\u001b[39m\u001b[34m(dsn, pool, pool_alias, conn_class, params, **kwargs)\u001b[39m\n\u001b[32m   1262\u001b[39m     message = \u001b[33m\"\u001b[39m\u001b[33mpool must be an instance of oracledb.ConnectionPool\u001b[39m\u001b[33m\"\u001b[39m\n\u001b[32m   1263\u001b[39m     \u001b[38;5;28;01mraise\u001b[39;00m \u001b[38;5;167;01mTypeError\u001b[39;00m(message)\n\u001b[32m-> \u001b[39m\u001b[32m1264\u001b[39m \u001b[38;5;28;01mreturn\u001b[39;00m \u001b[43mconn_class\u001b[49m\u001b[43m(\u001b[49m\u001b[43mdsn\u001b[49m\u001b[43m=\u001b[49m\u001b[43mdsn\u001b[49m\u001b[43m,\u001b[49m\u001b[43m \u001b[49m\u001b[43mpool\u001b[49m\u001b[43m=\u001b[49m\u001b[43mpool\u001b[49m\u001b[43m,\u001b[49m\u001b[43m \u001b[49m\u001b[43mparams\u001b[49m\u001b[43m=\u001b[49m\u001b[43mparams\u001b[49m\u001b[43m,\u001b[49m\u001b[43m \u001b[49m\u001b[43m*\u001b[49m\u001b[43m*\u001b[49m\u001b[43mkwargs\u001b[49m\u001b[43m)\u001b[49m\n",
      "\u001b[36mFile \u001b[39m\u001b[32m~/code/kifiyaAI/Customer-Experience-Analytics-for-Fintech-Apps/.venv/lib/python3.12/site-packages/oracledb/connection.py:649\u001b[39m, in \u001b[36mConnection.__init__\u001b[39m\u001b[34m(self, dsn, pool, params, **kwargs)\u001b[39m\n\u001b[32m    647\u001b[39m     \u001b[38;5;28;01melse\u001b[39;00m:\n\u001b[32m    648\u001b[39m         impl = thin_impl.ThinConnImpl(dsn, params_impl)\n\u001b[32m--> \u001b[39m\u001b[32m649\u001b[39m         \u001b[43mimpl\u001b[49m\u001b[43m.\u001b[49m\u001b[43mconnect\u001b[49m\u001b[43m(\u001b[49m\u001b[43mparams_impl\u001b[49m\u001b[43m)\u001b[49m\n\u001b[32m    650\u001b[39m \u001b[38;5;28;01melse\u001b[39;00m:\n\u001b[32m    651\u001b[39m     impl = thick_impl.ThickConnImpl(dsn, params_impl)\n",
      "\u001b[36mFile \u001b[39m\u001b[32msrc/oracledb/impl/thin/connection.pyx:462\u001b[39m, in \u001b[36moracledb.thin_impl.ThinConnImpl.connect\u001b[39m\u001b[34m()\u001b[39m\n",
      "\u001b[36mFile \u001b[39m\u001b[32msrc/oracledb/impl/thin/connection.pyx:458\u001b[39m, in \u001b[36moracledb.thin_impl.ThinConnImpl.connect\u001b[39m\u001b[34m()\u001b[39m\n",
      "\u001b[36mFile \u001b[39m\u001b[32msrc/oracledb/impl/thin/connection.pyx:419\u001b[39m, in \u001b[36moracledb.thin_impl.ThinConnImpl._connect_with_params\u001b[39m\u001b[34m()\u001b[39m\n",
      "\u001b[36mFile \u001b[39m\u001b[32msrc/oracledb/impl/thin/connection.pyx:400\u001b[39m, in \u001b[36moracledb.thin_impl.ThinConnImpl._connect_with_description\u001b[39m\u001b[34m()\u001b[39m\n",
      "\u001b[36mFile \u001b[39m\u001b[32msrc/oracledb/impl/thin/connection.pyx:362\u001b[39m, in \u001b[36moracledb.thin_impl.ThinConnImpl._connect_with_address\u001b[39m\u001b[34m()\u001b[39m\n",
      "\u001b[36mFile \u001b[39m\u001b[32m~/code/kifiyaAI/Customer-Experience-Analytics-for-Fintech-Apps/.venv/lib/python3.12/site-packages/oracledb/errors.py:199\u001b[39m, in \u001b[36m_raise_err\u001b[39m\u001b[34m(error_num, context_error_message, cause, **args)\u001b[39m\n\u001b[32m    194\u001b[39m \u001b[38;5;250m\u001b[39m\u001b[33;03m\"\"\"\u001b[39;00m\n\u001b[32m    195\u001b[39m \u001b[33;03mRaises a driver specific exception from the specified error number and\u001b[39;00m\n\u001b[32m    196\u001b[39m \u001b[33;03msupplied arguments.\u001b[39;00m\n\u001b[32m    197\u001b[39m \u001b[33;03m\"\"\"\u001b[39;00m\n\u001b[32m    198\u001b[39m error = _create_err(error_num, context_error_message, cause, **args)\n\u001b[32m--> \u001b[39m\u001b[32m199\u001b[39m \u001b[38;5;28;01mraise\u001b[39;00m error.exc_type(error) \u001b[38;5;28;01mfrom\u001b[39;00m\u001b[38;5;250m \u001b[39m\u001b[34;01mcause\u001b[39;00m\n",
      "\u001b[31mOperationalError\u001b[39m: DPY-6005: cannot connect to database (CONNECTION_ID=yXWic2N5X6DvUxkKrLZdXA==).\n[Errno 111] Connection refused"
     ]
    }
   ],
   "source": [
    "import sys\n",
    "import os\n",
    "\n",
    "# Add the parent directory of 'src' to sys.path\n",
    "sys.path.append(os.path.abspath(os.path.join(os.getcwd(), '..')))\n",
    "\n",
    "from src.db import create_schema\n",
    "\n",
    "# Replace with your Oracle XE credentials and DSN\n",
    "user = \"PDADMIN\"\n",
    "password = \"dohardthings\"\n",
    "dsn = \"localhost/XEPDB1\"\n",
    "\n",
    "create_schema(user, password, dsn)"
   ]
  }
 ],
 "metadata": {
  "kernelspec": {
   "display_name": ".venv",
   "language": "python",
   "name": "python3"
  },
  "language_info": {
   "codemirror_mode": {
    "name": "ipython",
    "version": 3
   },
   "file_extension": ".py",
   "mimetype": "text/x-python",
   "name": "python",
   "nbconvert_exporter": "python",
   "pygments_lexer": "ipython3",
   "version": "3.13.3"
  }
 },
 "nbformat": 4,
 "nbformat_minor": 5
}
